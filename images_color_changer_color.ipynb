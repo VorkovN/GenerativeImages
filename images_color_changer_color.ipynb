{
 "cells": [
  {
   "cell_type": "code",
   "execution_count": 2,
   "id": "initial_id",
   "metadata": {
    "collapsed": true,
    "ExecuteTime": {
     "end_time": "2023-12-03T14:53:45.555047808Z",
     "start_time": "2023-12-03T14:45:51.295040939Z"
    }
   },
   "outputs": [],
   "source": [
    "from PIL import Image\n",
    "import os\n",
    "\n",
    "def change_colors_recursive(input_path, output_path, color_mapping):\n",
    "    try:\n",
    "        os.makedirs(output_path)\n",
    "    except FileExistsError:\n",
    "        pass\n",
    "\n",
    "    for root, dirs, files in os.walk(input_path):\n",
    "        for filename in files:\n",
    "            if filename.endswith(\".png\"):\n",
    "                input_image_path = os.path.join(root, filename)\n",
    "                relative_path = os.path.relpath(input_image_path, input_path)\n",
    "                output_image_path = os.path.join(output_path, relative_path)\n",
    "                \n",
    "                output_image_folder = os.path.dirname(output_image_path)\n",
    "                if not os.path.exists(output_image_folder):\n",
    "                    os.makedirs(output_image_folder)\n",
    "                    \n",
    "                with Image.open(input_image_path) as img:\n",
    "                    img_data = img.getdata()\n",
    "                    new_data = []\n",
    "\n",
    "                    for (r, g, b, x) in img_data:\n",
    "                        pixel = (r, g, b)\n",
    "                        if pixel in color_mapping:\n",
    "                            new_data.append(color_mapping[pixel])\n",
    "                        else:\n",
    "                            new_data.append(pixel)\n",
    "\n",
    "                    img.putdata(new_data)\n",
    "                    img.save(output_image_path)\n",
    "\n",
    "input_directory = \"/home/vorkov/Workspace/Python/Segmentation/datasets/gtFine3\"  # Укажите ваш путь к директории с изображениями\n",
    "output_directory = \"/home/vorkov/Workspace/Python/Segmentation/datasets/gtFine4\"  # Укажите ваш путь к директории для сохранения измененных изображений\n",
    "\n",
    "color_mapping = {\n",
    "    (0, 0, 0): (0, 0, 0),\n",
    "    (111, 74, 0): (0, 0, 0),\n",
    "    (81, 0, 81): (0, 0, 0),\n",
    "    (128, 64, 128): (128, 64, 128),\n",
    "    (244, 35, 232): (128, 64, 128),\n",
    "    (250, 170, 160): (128, 64, 128),\n",
    "    (230, 150, 140): (128, 64, 128),\n",
    "    (70, 70, 70): (70, 70, 70),\n",
    "    (102, 102, 156): (70, 70, 70),\n",
    "    (190, 153, 153): (70, 70, 70),\n",
    "    (180, 165, 180): (70, 70, 70),\n",
    "    (150, 100, 100): (70, 70, 70),\n",
    "    (150, 120, 90): (70, 70, 70),\n",
    "    (153, 153, 153): (153, 153, 153),\n",
    "    (250, 170, 30): (153, 153, 153),\n",
    "    (220, 220, 0): (153, 153, 153),\n",
    "    (107, 142, 35): (107, 142, 35),\n",
    "    (152, 251, 152): (107, 142, 35),\n",
    "    (70, 130, 180): (70, 130, 180),\n",
    "    (220, 20, 60): (220, 20, 60),\n",
    "    (255, 0, 0): (220, 20, 60),\n",
    "    (0, 0, 142): (0, 0, 142),\n",
    "    (0, 0, 70): (0, 0, 142),\n",
    "    (0, 60, 100): (0, 0, 142),\n",
    "    (0, 0, 90): (0, 0, 142),\n",
    "    (0, 0, 110): (0, 0, 142),\n",
    "    (0, 80, 100): (0, 0, 142),\n",
    "    (0, 0, 230): (0, 0, 142),\n",
    "    (119, 11, 32): (0, 0, 142),\n",
    "    (0, 0, 142): (0, 0, 142),\n",
    "}\n",
    "\n",
    "change_colors_recursive(input_directory, output_directory, color_mapping)"
   ]
  },
  {
   "cell_type": "code",
   "execution_count": null,
   "outputs": [],
   "source": [],
   "metadata": {
    "collapsed": false,
    "ExecuteTime": {
     "start_time": "2023-12-03T14:42:56.795256719Z"
    }
   },
   "id": "423b9154eefce2bf"
  }
 ],
 "metadata": {
  "kernelspec": {
   "display_name": "Python 3",
   "language": "python",
   "name": "python3"
  },
  "language_info": {
   "codemirror_mode": {
    "name": "ipython",
    "version": 2
   },
   "file_extension": ".py",
   "mimetype": "text/x-python",
   "name": "python",
   "nbconvert_exporter": "python",
   "pygments_lexer": "ipython2",
   "version": "2.7.6"
  }
 },
 "nbformat": 4,
 "nbformat_minor": 5
}
