{
 "cells": [
  {
   "cell_type": "code",
   "execution_count": 2,
   "id": "initial_id",
   "metadata": {
    "collapsed": true,
    "ExecuteTime": {
     "end_time": "2023-12-03T14:53:45.555047808Z",
     "start_time": "2023-12-03T14:45:51.295040939Z"
    }
   },
   "outputs": [],
   "source": [
    "from PIL import Image\n",
    "import os\n",
    "\n",
    "def change_colors_recursive(input_path, output_path, color_mapping):\n",
    "    try:\n",
    "        os.makedirs(output_path)\n",
    "    except FileExistsError:\n",
    "        pass\n",
    "\n",
    "    for root, dirs, files in os.walk(input_path):\n",
    "        for filename in files:\n",
    "            if filename.endswith(\".png\"):\n",
    "                input_image_path = os.path.join(root, filename)\n",
    "                relative_path = os.path.relpath(input_image_path, input_path)\n",
    "                output_image_path = os.path.join(output_path, relative_path)\n",
    "                \n",
    "                output_image_folder = os.path.dirname(output_image_path)\n",
    "                if not os.path.exists(output_image_folder):\n",
    "                    os.makedirs(output_image_folder)\n",
    "                    \n",
    "                with Image.open(input_image_path) as img:\n",
    "                    img_data = img.getdata()\n",
    "                    new_data = []\n",
    "                                    \n",
    "                    for pixel in img_data:\n",
    "                        if pixel in color_mapping:\n",
    "                            new_data.append(color_mapping[pixel])\n",
    "                        else:\n",
    "                            new_data.append(pixel)\n",
    "\n",
    "                    img.putdata(new_data)\n",
    "                    img.save(output_image_path)\n",
    "\n",
    "input_directory = \"/home/vorkov/Workspace/Python/Segmentation/datasets/gtFine_mono\"  # Укажите ваш путь к директории с изображениями\n",
    "output_directory = \"/home/vorkov/Workspace/Python/Segmentation/datasets/gtFine_mono2\"  # Укажите ваш путь к директории для сохранения измененных изображений\n",
    "\n",
    "color_mapping = {\n",
    "        0: 0,\n",
    "        1: 0,\n",
    "        2: 0,\n",
    "        3: 0,\n",
    "        4: 0,\n",
    "        5: 0,\n",
    "        6: 0,\n",
    "        7: 1,\n",
    "        8: 1,\n",
    "        9: 1,\n",
    "        10: 1,\n",
    "        11: 2,\n",
    "        12: 2,\n",
    "        13: 2,\n",
    "        14: 2,\n",
    "        15: 2,\n",
    "        16: 2,\n",
    "        17: 3,\n",
    "        18: 3,\n",
    "        19: 3,\n",
    "        20: 3,\n",
    "        21: 4,\n",
    "        22: 4,\n",
    "        23: 5,\n",
    "        24: 6,\n",
    "        25: 6,\n",
    "        26: 7,\n",
    "        27: 7,\n",
    "        28: 7,\n",
    "        29: 7,\n",
    "        30: 7,\n",
    "        31: 7,\n",
    "        32: 7,\n",
    "        33: 7,\n",
    "}\n",
    "\n",
    "change_colors_recursive(input_directory, output_directory, color_mapping)"
   ]
  },
  {
   "cell_type": "code",
   "execution_count": null,
   "outputs": [],
   "source": [],
   "metadata": {
    "collapsed": false,
    "ExecuteTime": {
     "start_time": "2023-12-03T14:42:56.795256719Z"
    }
   },
   "id": "423b9154eefce2bf"
  }
 ],
 "metadata": {
  "kernelspec": {
   "display_name": "Python 3",
   "language": "python",
   "name": "python3"
  },
  "language_info": {
   "codemirror_mode": {
    "name": "ipython",
    "version": 2
   },
   "file_extension": ".py",
   "mimetype": "text/x-python",
   "name": "python",
   "nbconvert_exporter": "python",
   "pygments_lexer": "ipython2",
   "version": "2.7.6"
  }
 },
 "nbformat": 4,
 "nbformat_minor": 5
}
